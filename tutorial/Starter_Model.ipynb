{
 "cells": [
  {
   "cell_type": "markdown",
   "metadata": {},
   "source": [
    "# Starter Model\n",
    "\n",
    "I created a basic model in the style of VGG with batchnormalization instead of dropout, it can be found in `model_utils/conv_nets.py`. I'm going to make sure everything runs and that I can overfit one training example with the model, before I waste a week training on the 35,000 examples kaggle has been nice enough to provide."
   ]
  },
  {
   "cell_type": "code",
   "execution_count": 1,
   "metadata": {
    "collapsed": false
   },
   "outputs": [
    {
     "name": "stderr",
     "output_type": "stream",
     "text": [
      "Using Theano backend.\n",
      "Using gpu device 0: GeForce GTX 970 (CNMeM is enabled with initial size: 80.0% of memory, cuDNN 5103)\n"
     ]
    }
   ],
   "source": [
    "from model_utils.conv_nets import conv1\n",
    "from keras.callbacks import ModelCheckpoint, EarlyStopping\n",
    "from keras.utils import np_utils\n",
    "import numpy as np\n",
    "import os"
   ]
  },
  {
   "cell_type": "markdown",
   "metadata": {},
   "source": [
    "## Load preprocessed Data, convert labels to 1-hot vectors"
   ]
  },
  {
   "cell_type": "code",
   "execution_count": 3,
   "metadata": {
    "collapsed": false
   },
   "outputs": [
    {
     "data": {
      "text/plain": [
       "((10L, 3L, 512L, 512L), (10L, 5L))"
      ]
     },
     "execution_count": 3,
     "metadata": {},
     "output_type": "execute_result"
    }
   ],
   "source": [
    "X_sample = np.load(os.path.join('data', 'train', 'X_sample.npy'))\n",
    "y_sample = np.load(os.path.join('data', 'train', 'y_sample.npy'))\n",
    "y_sample = np_utils.to_categorical(y_sample)\n",
    "X_sample.shape, y_sample.shape # check dimensionality"
   ]
  },
  {
   "cell_type": "code",
   "execution_count": 4,
   "metadata": {
    "collapsed": false,
    "scrolled": true
   },
   "outputs": [
    {
     "data": {
      "text/plain": [
       "array([[ 1.,  0.,  0.,  0.,  0.],\n",
       "       [ 1.,  0.,  0.,  0.,  0.],\n",
       "       [ 1.,  0.,  0.,  0.,  0.],\n",
       "       [ 1.,  0.,  0.,  0.,  0.],\n",
       "       [ 0.,  1.,  0.,  0.,  0.],\n",
       "       [ 0.,  0.,  1.,  0.,  0.],\n",
       "       [ 0.,  0.,  0.,  0.,  1.],\n",
       "       [ 0.,  0.,  0.,  0.,  1.],\n",
       "       [ 1.,  0.,  0.,  0.,  0.],\n",
       "       [ 0.,  1.,  0.,  0.,  0.]])"
      ]
     },
     "execution_count": 4,
     "metadata": {},
     "output_type": "execute_result"
    }
   ],
   "source": [
    "y_sample"
   ]
  },
  {
   "cell_type": "markdown",
   "metadata": {},
   "source": [
    "### Create Model"
   ]
  },
  {
   "cell_type": "code",
   "execution_count": 5,
   "metadata": {
    "collapsed": false,
    "scrolled": true
   },
   "outputs": [],
   "source": [
    "model = conv1()"
   ]
  },
  {
   "cell_type": "code",
   "execution_count": 14,
   "metadata": {
    "collapsed": false
   },
   "outputs": [
    {
     "name": "stdout",
     "output_type": "stream",
     "text": [
      "Epoch 1/100\n",
      "Epoch 00000: saving model to models\\tmp\\weights.hdf5\n",
      "1/1 [==============================] - 1s - loss: 1.4426\n",
      "Epoch 2/100\n",
      "Epoch 00001: saving model to models\\tmp\\weights.hdf5\n",
      "1/1 [==============================] - 1s - loss: nan\n",
      "Epoch 3/100\n",
      "Epoch 00002: saving model to models\\tmp\\weights.hdf5\n",
      "1/1 [==============================] - 2s - loss: nan\n",
      "Epoch 4/100\n",
      "Epoch 00003: saving model to models\\tmp\\weights.hdf5\n",
      "1/1 [==============================] - 1s - loss: nan\n",
      "Epoch 5/100\n",
      "Epoch 00004: saving model to models\\tmp\\weights.hdf5\n",
      "1/1 [==============================] - 2s - loss: nan\n",
      "Epoch 6/100\n",
      "Epoch 00005: saving model to models\\tmp\\weights.hdf5\n",
      "1/1 [==============================] - 1s - loss: nan\n",
      "Epoch 7/100\n",
      "Epoch 00006: saving model to models\\tmp\\weights.hdf5\n",
      "Epoch 00006: early stopping\n",
      "1/1 [==============================] - 1s - loss: nan\n",
      "[[ nan  nan  nan  nan  nan]]\n"
     ]
    }
   ],
   "source": [
    "earlystop = EarlyStopping(monitor='loss', patience=5, verbose=1, mode='auto')\n",
    "checkpointer = ModelCheckpoint(filepath=os.path.join(\"models\", \"tmp\", \"weights.hdf5\"), verbose=1, save_best_only=False, monitor='loss')\n",
    "history = model.fit(X_sample[:1], y_sample[:1], batch_size=5, nb_epoch=100, verbose=1, callbacks=[checkpointer, earlystop])"
   ]
  },
  {
   "cell_type": "markdown",
   "metadata": {},
   "source": [
    "### Predict"
   ]
  },
  {
   "cell_type": "code",
   "execution_count": 24,
   "metadata": {
    "collapsed": false
   },
   "outputs": [
    {
     "name": "stdout",
     "output_type": "stream",
     "text": [
      "1/1 [==============================] - 0s\n",
      " predicted class:  [0]\n"
     ]
    }
   ],
   "source": [
    "pred = model.predict_classes(X_sample[:1])\n",
    "print \"predicted class: \", pred"
   ]
  },
  {
   "cell_type": "code",
   "execution_count": 21,
   "metadata": {
    "collapsed": false
   },
   "outputs": [
    {
     "name": "stdout",
     "output_type": "stream",
     "text": [
      "label:  0\n"
     ]
    }
   ],
   "source": [
    "print \"label: \", np.argmax(y_sample[0])"
   ]
  }
 ],
 "metadata": {
  "kernelspec": {
   "display_name": "Python 2",
   "language": "python",
   "name": "python2"
  },
  "language_info": {
   "codemirror_mode": {
    "name": "ipython",
    "version": 2
   },
   "file_extension": ".py",
   "mimetype": "text/x-python",
   "name": "python",
   "nbconvert_exporter": "python",
   "pygments_lexer": "ipython2",
   "version": "2.7.11"
  }
 },
 "nbformat": 4,
 "nbformat_minor": 0
}
